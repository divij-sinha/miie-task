{
 "cells": [
  {
   "attachments": {},
   "cell_type": "markdown",
   "metadata": {},
   "source": [
    "# Scraping Task\n"
   ]
  },
  {
   "attachments": {},
   "cell_type": "markdown",
   "metadata": {},
   "source": [
    "## Initialisation\n",
    "\n",
    "Loading libraries and id/password from environment\n"
   ]
  },
  {
   "cell_type": "code",
   "execution_count": 1,
   "metadata": {},
   "outputs": [
    {
     "data": {
      "text/plain": [
       "True"
      ]
     },
     "execution_count": 1,
     "metadata": {},
     "output_type": "execute_result"
    }
   ],
   "source": [
    "from requests import session\n",
    "import dotenv\n",
    "import json\n",
    "import os\n",
    "from bs4 import BeautifulSoup\n",
    "import time\n",
    "\n",
    "dotenv.load_dotenv()"
   ]
  },
  {
   "attachments": {},
   "cell_type": "markdown",
   "metadata": {},
   "source": [
    "## Functions\n",
    "\n",
    "### Create folder function\n",
    "\n",
    "This function just creates a folder with the correct attributes for the files to be saved in\n"
   ]
  },
  {
   "cell_type": "code",
   "execution_count": 2,
   "metadata": {},
   "outputs": [],
   "source": [
    "def create_img_folder(school, img_size):\n",
    "    img_folder = \"imgs\"\n",
    "    folder_name = \"_\".join([school[\"name\"], str(school[\"year\"]), img_size])\n",
    "    folder_name = \"/\".join([img_folder, folder_name])\n",
    "    if not os.path.exists(img_folder):\n",
    "        os.mkdir(img_folder)\n",
    "    if not os.path.exists(folder_name):\n",
    "        os.mkdir(folder_name)\n",
    "    return folder_name"
   ]
  },
  {
   "attachments": {},
   "cell_type": "markdown",
   "metadata": {},
   "source": [
    "### Save data dict\n",
    "\n",
    "This function iterates over the data dictionary, and chooses the size of the image (defaults to large)\n"
   ]
  },
  {
   "cell_type": "code",
   "execution_count": 3,
   "metadata": {},
   "outputs": [],
   "source": [
    "def save_data_dict(session, school, data_dict, img_size=\"largeSizeUrl\"):\n",
    "    folder_name = create_img_folder(school, img_size)\n",
    "    for page in data_dict[\"yearbookPages\"]:\n",
    "        save_page(session, page[\"pageNumber\"], page[img_size], img_size, folder_name)"
   ]
  },
  {
   "attachments": {},
   "cell_type": "markdown",
   "metadata": {},
   "source": [
    "### Save page\n",
    "\n",
    "This function takes the url for each page, and saves its in the previously created folder\n"
   ]
  },
  {
   "cell_type": "code",
   "execution_count": 4,
   "metadata": {},
   "outputs": [],
   "source": [
    "def save_page(session, pg, img_url, img_size, folder_name):\n",
    "    file_name = \"_\".join([\"pg\", str(pg), \"img\", img_size.replace(\"Url\", \"\")])\n",
    "    file_name = \".\".join([file_name, \"jpeg\"])\n",
    "    file_name = \"/\".join([folder_name, file_name])\n",
    "    img = session.get(img_url)\n",
    "    if img.status_code == 200:\n",
    "        with open(file_name, \"wb\") as f:\n",
    "            f.write(img.content)"
   ]
  },
  {
   "attachments": {},
   "cell_type": "markdown",
   "metadata": {},
   "source": [
    "### Login\n",
    "\n",
    "This function logs us in by using the id/password, and then returns the saved session\n"
   ]
  },
  {
   "cell_type": "code",
   "execution_count": 5,
   "metadata": {},
   "outputs": [],
   "source": [
    "def login(session, page_url):\n",
    "    base_page = session.get(page_url)\n",
    "    print(base_page.url, base_page)\n",
    "    login_link_tag = [\n",
    "        linktag\n",
    "        for linktag in BeautifulSoup(base_page.content, features=\"lxml\").findAll(\"a\")\n",
    "        if linktag.text == \"Sign in\"\n",
    "    ]\n",
    "    login_url = login_link_tag[0][\"href\"]\n",
    "    login_page = session.get(login_url)\n",
    "    print(login_page.url, login_page)\n",
    "    login_soup = BeautifulSoup(login_page.content, features=\"lxml\")\n",
    "    csrf_token = login_soup.find(\"input\", {\"name\": \"_csrf\"})[\"value\"]\n",
    "    form_data = {\n",
    "        \"_csrf\": csrf_token,\n",
    "        \"emailOrRegId\": os.environ[\"USER_ID\"],\n",
    "        \"password\": os.environ[\"USER_PW\"],\n",
    "        \"rememberme\": \"yes\",\n",
    "        \"successUrl\": page_url,\n",
    "        \"g-recaptcha-response\": \"\",\n",
    "    }\n",
    "    resp = session.post(login_url, data=form_data)\n",
    "    print(resp.url, resp)\n",
    "    return session"
   ]
  },
  {
   "attachments": {},
   "cell_type": "markdown",
   "metadata": {},
   "source": [
    "## Main\n",
    "\n",
    "Here, we set the page url, the headers, and then login. Post login, we use the api call from the same session. The call needs the current time in nanoseconds, the yearbook id, the page from where to start, and how many pages\n"
   ]
  },
  {
   "cell_type": "code",
   "execution_count": 9,
   "metadata": {},
   "outputs": [
    {
     "name": "stdout",
     "output_type": "stream",
     "text": [
      "https://www.classmates.com/yearbooks/Alameda-High-School/4182755124?page=1 <Response [200]>\n",
      "https://secure.classmates.com/auth/login <Response [200]>\n",
      "https://secure.classmates.com/auth/login <Response [200]>\n",
      "saving pages 1 to 100\n",
      "saving pages 101 to 200\n",
      "saving pages 201 to 300\n"
     ]
    }
   ],
   "source": [
    "page_url = \"https://www.classmates.com/yearbooks/Alameda-High-School/4182755124?page=1\"\n",
    "headers = {\n",
    "    \"User-Agent\": \"Mozilla/5.0 (Macintosh; Intel Mac OS X 10_15_7) \"\n",
    "    \"AppleWebKit/537.36 (KHTML, like Gecko) Chrome/113.0.0.0 Safari/537.36\",\n",
    "}\n",
    "cur_session = session()\n",
    "cur_session.headers = headers\n",
    "cur_session = login(cur_session, page_url)\n",
    "\n",
    "# API CALL\n",
    "cur_session.headers[\"version\"] = \"v2\"\n",
    "school = {\"name\": \"Alameda High School\", \"year\": \"2010\"}\n",
    "page = 0\n",
    "limit = 100\n",
    "api_base = \"https://www.classmates.com/node/api/yearbookPages/\"\n",
    "while True:\n",
    "    api_params = {\n",
    "        \"limit\": limit,\n",
    "        \"offset\": page * limit,\n",
    "        \"yearbookId\": \"4182755124\",\n",
    "        \"_\": str(time.time_ns()),\n",
    "    }\n",
    "    api_resp = cur_session.get(api_base, params=api_params)\n",
    "    if not api_resp.status_code == 200:\n",
    "        break\n",
    "    print(f\"saving pages {(page*limit)+1} to {(page+1)*limit}\")\n",
    "    save_data_dict(cur_session, school, json.loads(api_resp.text))\n",
    "    page += 1"
   ]
  },
  {
   "attachments": {},
   "cell_type": "markdown",
   "metadata": {},
   "source": [
    "## Notes\n"
   ]
  },
  {
   "attachments": {},
   "cell_type": "markdown",
   "metadata": {},
   "source": [
    "The website is quite tricky as it renders HTML only when you are logged out, but loads everything by JS when you login. It required a bit of back and forth to figure out the API call.  \n",
    "I started without logging in, and then you can easily acess the small version of images. Followed by this, I tried to login, and that led to rethinking my approach. I saw the API calls that the JS on loading was making, and tried making those with the logged in session. This failed initially, until I realised two important changes - firstly, the header needed the version to be added, and secondly, one of the params was just the current time in ns. Post that it worked without any issues!  \n",
    "Happy to talk about it further on a call!\n"
   ]
  },
  {
   "attachments": {},
   "cell_type": "markdown",
   "metadata": {},
   "source": [
    "repo at [https://github.com/divij-sinha/miie-task/tree/main](https://github.com/divij-sinha/miie-task/tree/main)\n"
   ]
  }
 ],
 "metadata": {
  "kernelspec": {
   "display_name": "env",
   "language": "python",
   "name": "python3"
  },
  "language_info": {
   "codemirror_mode": {
    "name": "ipython",
    "version": 3
   },
   "file_extension": ".py",
   "mimetype": "text/x-python",
   "name": "python",
   "nbconvert_exporter": "python",
   "pygments_lexer": "ipython3",
   "version": "3.10.11"
  },
  "orig_nbformat": 4
 },
 "nbformat": 4,
 "nbformat_minor": 2
}
